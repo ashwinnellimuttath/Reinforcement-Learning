{
  "nbformat": 4,
  "nbformat_minor": 0,
  "metadata": {
    "colab": {
      "provenance": []
    },
    "kernelspec": {
      "name": "python3",
      "display_name": "Python 3"
    },
    "language_info": {
      "name": "python"
    }
  },
  "cells": [
    {
      "cell_type": "code",
      "execution_count": null,
      "metadata": {
        "id": "QF43NUo3uPYP"
      },
      "outputs": [],
      "source": [
        "import gym\n",
        "from gym import spaces\n",
        "import numpy as np\n",
        "\n",
        "class BallCatchingEnv(gym.Env):\n",
        "    def __init__(self):\n",
        "        super(BallCatchingEnv, self).__init__()\n",
        "\n",
        "        # observation space\n",
        "        self.observation_space = spaces.Box(low=-np.inf, high=np.inf, shape=(4,), dtype=np.float32)\n",
        "\n",
        "        # the action space\n",
        "        self.action_space = spaces.Box(low=-1, high=1, shape=(2,), dtype=np.float32)\n",
        "        self.ball_position = np.array([0.0, 0.0])  # Initial position of the ball\n",
        "        self.person_position = np.array([0.0, 0.0])  # Initial position of the person\n",
        "\n",
        "    def reset(self):\n",
        "        #resest ball position\n",
        "        self.ball_position = np.array([0.0, 0.0])\n",
        "        self.person_position = np.array([0.0, 0.0])\n",
        "        return self._get_observation()\n",
        "\n",
        "    def step(self, action):\n",
        "        # positions of the ball\n",
        "        self.ball_position += action\n",
        "        self.person_position += np.random.uniform(-0.1, 0.1, size=(2,))\n",
        "        # random movement\n",
        "\n",
        "        # to calculate reward\n",
        "        distance = np.linalg.norm(self.ball_position - self.person_position)\n",
        "        reward = 1.0 if distance < 0.5 else -1.0\n",
        "\n",
        "        # Check if the ball is caught by the person\n",
        "        done = distance < 0.5\n",
        "        return self._get_observation(), reward, done, {}\n",
        "\n",
        "    def _get_observation(self):\n",
        "        return np.concatenate((self.ball_position, self.person_position))\n",
        "\n",
        "    def render(self, mode='human'):\n",
        "        pass\n",
        "\n",
        "# an instance of the custom environment\n",
        "env = BallCatchingEnv()\n"
      ]
    },
    {
      "cell_type": "markdown",
      "source": [
        "This is a sample code of the environment I tried out for my initial project description. However I could not get this working. Professor mentioned I could submit this so that it can be considered for the effort."
      ],
      "metadata": {
        "id": "BnJV__FavJhy"
      }
    }
  ]
}